{
 "cells": [
  {
   "cell_type": "markdown",
   "metadata": {},
   "source": [
    "How does the web work?\n",
    "The internet is the backbone of the web. It consists of a large network of computers which communicate together.\n",
    "\n",
    "When you type a web address into your browser:\n",
    "-> browser searchs the ip address using a DNS server\n",
    "-> browser sends a HTTP request to the server asking for it to send a copy\n",
    "    -> this message is sent accross using TCP/IP protocol\n",
    "-> if the server approves the client's request, it will send the client a '200 OK' message\n",
    "    -> the website is sent in small chucks called data packets \n",
    "-> the browser will assemble the small chunks into a complete web page and display to you the website\n",
    "\n"
   ]
  },
  {
   "cell_type": "markdown",
   "metadata": {},
   "source": [
    "HTML - Content and Layout\n",
    "\n",
    "HTML is a language that determines how documents and web pages are displayed in a web browser, the language for the building blocks of any website.\n",
    "\n",
    "CSS: Styling and “Look & Feel”\n",
    "\n",
    "CSS (Cascading Style Sheets) is a popular style sheet language that determines how a document created in HTML is styled (colors, font styles, layout and responsive features).\n",
    "\n",
    "JavaScript: Interactive Elements\n",
    "\n",
    "JavaScript allows you to change CSS and HTML elements on your website after the site has been loaded, which gives you the ability to make your site more interactive and engaging for users with animations, embedded video media, and more."
   ]
  }
 ],
 "metadata": {
  "language_info": {
   "name": "python"
  }
 },
 "nbformat": 4,
 "nbformat_minor": 2
}
