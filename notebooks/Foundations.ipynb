{
 "cells": [
  {
   "cell_type": "markdown",
   "metadata": {},
   "source": [
    "How does the web work?\n",
    "The internet is the backbone of the web. It consists of a large network of computers which communicate together.\n",
    "\n",
    "When you type a web address into your browser:\n",
    "-> browser searchs the ip address using a DNS server\n",
    "-> browser sends a HTTP request to the server asking for it to send a copy\n",
    "    -> this message is sent accross using TCP/IP protocol\n",
    "-> if the server approves the client's request, it will send the client a '200 OK' message\n",
    "    -> the website is sent in small chucks called data packets \n",
    "-> the browser will assemble the small chunks into a complete web page and display to you the website\n",
    "\n"
   ]
  }
 ],
 "metadata": {
  "language_info": {
   "name": "python"
  }
 },
 "nbformat": 4,
 "nbformat_minor": 2
}
